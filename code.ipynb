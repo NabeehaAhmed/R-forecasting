{
 "cells": [
  {
   "cell_type": "code",
   "execution_count": 1,
   "metadata": {
    "vscode": {
     "languageId": "r"
    }
   },
   "outputs": [
    {
     "name": "stderr",
     "output_type": "stream",
     "text": [
      "Warning message:\n",
      "\"package 'forecast' was built under R version 4.1.3\"\n",
      "Registered S3 method overwritten by 'quantmod':\n",
      "  method            from\n",
      "  as.zoo.data.frame zoo \n",
      "\n",
      "\u001b[1mRows: \u001b[22m\u001b[34m59\u001b[39m \u001b[1mColumns: \u001b[22m\u001b[34m3\u001b[39m\n",
      "\u001b[36m--\u001b[39m \u001b[1mColumn specification\u001b[22m \u001b[36m--------------------------------------------------------\u001b[39m\n",
      "\u001b[1mDelimiter:\u001b[22m \",\"\n",
      "\u001b[31mchr\u001b[39m (1): Quarter\n",
      "\u001b[32mdbl\u001b[39m (2): Year, Value\n",
      "\n",
      "\u001b[36mi\u001b[39m Use `spec()` to retrieve the full column specification for this data.\n",
      "\u001b[36mi\u001b[39m Specify the column types or set `show_col_types = FALSE` to quiet this message.\n"
     ]
    },
    {
     "name": "stdout",
     "output_type": "stream",
     "text": [
      "Best parameters for RMSE:\n",
      "alpha: 0.9 \n",
      "beta: 0.5 \n",
      "gamma: 0.3 \n",
      "Lowest RMSE: 0.1392739 \n",
      "\n",
      "Best parameters for MAPE:\n",
      "alpha: 0.9 \n",
      "beta: 0.5 \n",
      "gamma: 0.3 \n",
      "Lowest MAPE: 0.005719451 \n"
     ]
    }
   ],
   "source": [
    "# Load necessary libraries\n",
    "library(forecast)\n",
    "library(readr)\n",
    "\n",
    "# Load the data\n",
    "data <- read_csv(\"data.csv\") \n",
    "\n",
    "# Split the data into training and test sets\n",
    "train_data <- subset(data, Year < 2022 | (Year == 2022 & Quarter != \"Q4\"))\n",
    "test_data <- subset(data, Year == 2022 & Quarter == \"Q4\" | Year == 2023)\n",
    "\n",
    "# Use ts() to create time series objects\n",
    "train_ts <- ts(train_data$Value, start = c(min(train_data$Year), 1), frequency = 4)\n",
    "test_ts <- ts(test_data$Value, start = c(min(test_data$Year), 1), frequency = 4)\n",
    "\n",
    "# Define the range for alpha, beta, and gamma\n",
    "alpha_range <- seq(0.1, 1, by = 0.1)\n",
    "beta_range <- seq(0.1, 1, by = 0.1)\n",
    "gamma_range <- seq(0.1, 1, by = 0.1)\n",
    "\n",
    "# Initialize variables to store the best parameters and lowest RMSE and MAPE\n",
    "best_params <- list(alpha=NULL, beta=NULL, gamma=NULL)\n",
    "lowest_rmse <- Inf\n",
    "lowest_mape <- Inf\n",
    "\n",
    "# Loop through all combinations of alpha, beta, and gamma\n",
    "for (alpha in alpha_range) {\n",
    "  for (beta in beta_range) {\n",
    "    for (gamma in gamma_range) {\n",
    "      # Fit the model on the training set\n",
    "      fit <- HoltWinters(train_ts, alpha = alpha, beta = beta, gamma = gamma)\n",
    "      \n",
    "      # Forecast the test period\n",
    "      forecast_length <- length(test_ts)\n",
    "      forecast <- forecast(fit, h = forecast_length)\n",
    "      \n",
    "      # Calculate RMSE and MAPE\n",
    "      rmse <- mean((forecast$mean - test_ts)^2)\n",
    "      mape <- mean(abs((forecast$mean - test_ts) / test_ts)) * 100\n",
    "      \n",
    "      # Update best parameters if necessary\n",
    "      if (rmse < lowest_rmse) {\n",
    "        lowest_rmse <- rmse\n",
    "        best_params$alpha <- alpha\n",
    "        best_params$beta <- beta\n",
    "        best_params$gamma <- gamma\n",
    "      }\n",
    "      \n",
    "      if (mape < lowest_mape) {\n",
    "        lowest_mape <- mape\n",
    "        best_params_mape <- list(alpha=alpha, beta=beta, gamma=gamma)\n",
    "      }\n",
    "    }\n",
    "  }\n",
    "}\n",
    "\n",
    "# Print the best parameters and the corresponding RMSE and MAPE\n",
    "cat(\"Best parameters for RMSE:\\n\")\n",
    "cat(\"alpha:\", best_params$alpha, \"\\nbeta:\", best_params$beta, \"\\ngamma:\", best_params$gamma, \"\\n\")\n",
    "cat(\"Lowest RMSE:\", lowest_rmse, \"\\n\\n\")\n",
    "\n",
    "cat(\"Best parameters for MAPE:\\n\")\n",
    "cat(\"alpha:\", best_params_mape$alpha, \"\\nbeta:\", best_params_mape$beta, \"\\ngamma:\", best_params_mape$gamma, \"\\n\")\n",
    "cat(\"Lowest MAPE:\", lowest_mape, \"\\n\")"
   ]
  },
  {
   "cell_type": "code",
   "execution_count": 2,
   "metadata": {
    "vscode": {
     "languageId": "r"
    }
   },
   "outputs": [
    {
     "name": "stdout",
     "output_type": "stream",
     "text": [
      "        Point Forecast    Lo 80     Hi 80     Lo 95     Hi 95\n",
      "2023 Q4       6535.347 5548.236  7522.458 5025.6913  8045.003\n",
      "2024 Q1       6329.138 4670.762  7987.514 3792.8705  8865.405\n",
      "2024 Q2       6965.901 4535.422  9396.381 3248.8043 10682.998\n",
      "2024 Q3       6817.926 3525.500 10110.352 1782.5949 11853.257\n",
      "2024 Q4       6786.470 2531.815 11041.125  279.5369 13293.403\n"
     ]
    },
    {
     "data": {
      "image/png": "[encoded data removed]",
      "text/plain": [
       "Plot with title \"Forecasts from HoltWinters\""
      ]
     },
     "metadata": {
      "image/png": {
       "height": 420,
       "width": 420
      }
     },
     "output_type": "display_data"
    }
   ],
   "source": [
    "# Fit the model on the entire dataset using best parameters found\n",
    "all_data_ts <- ts(data$Value, start = c(min(data$Year), 1), frequency = 4)\n",
    "final_fit <- HoltWinters(all_data_ts, alpha = best_params$alpha, beta = best_params$beta, gamma = best_params$gamma)\n",
    "\n",
    "# Forecast future values starting from 2023 Q4\n",
    "future_forecast <- forecast(final_fit, h = 5) # Adjust the horizon as needed\n",
    "plot(future_forecast)\n",
    "print(future_forecast)"
   ]
  },
  {
   "cell_type": "markdown",
   "metadata": {},
   "source": [
    "# Plotting the Data and the Forecasted values"
   ]
  },
  {
   "cell_type": "code",
   "execution_count": 3,
   "metadata": {
    "vscode": {
     "languageId": "r"
    }
   },
   "outputs": [
    {
     "name": "stderr",
     "output_type": "stream",
     "text": [
      "Warning message:\n",
      "\"package 'zoo' was built under R version 4.1.3\"\n"
     ]
    },
    {
     "name": "stderr",
     "output_type": "stream",
     "text": [
      "\n",
      "Attaching package: 'zoo'\n",
      "\n",
      "\n",
      "The following objects are masked from 'package:base':\n",
      "\n",
      "    as.Date, as.Date.numeric\n",
      "\n",
      "\n",
      "`geom_smooth()` using formula 'y ~ x'\n",
      "\n"
     ]
    },
    {
     "data": {
      "image/png": "[encoded data removed]",
      "text/plain": [
       "plot without title"
      ]
     },
     "metadata": {
      "image/png": {
       "height": 420,
       "width": 420
      }
     },
     "output_type": "display_data"
    }
   ],
   "source": [
    "library(ggplot2)\n",
    "library(zoo)\n",
    "\n",
    "# define a list with the dates of all the quarters from 2009 to 2024\n",
    "Dates <- c(as.Date(\"2009-01-01\"), as.Date(\"2009-04-01\"), as.Date(\"2009-07-01\"), as.Date(\"2009-10-01\"), \n",
    "  as.Date(\"2010-01-01\"), as.Date(\"2010-04-01\"), as.Date(\"2010-07-01\"), as.Date(\"2010-10-01\"), as.Date(\"2011-01-01\"), \n",
    "  as.Date(\"2011-04-01\"), as.Date(\"2011-07-01\"), as.Date(\"2011-10-01\"), as.Date(\"2012-01-01\"), as.Date(\"2012-04-01\"), \n",
    "  as.Date(\"2012-07-01\"), as.Date(\"2012-10-01\"), as.Date(\"2013-01-01\"), as.Date(\"2013-04-01\"), as.Date(\"2013-07-01\"), \n",
    "  as.Date(\"2013-10-01\"), as.Date(\"2014-01-01\"), as.Date(\"2014-04-01\"), as.Date(\"2014-07-01\"), as.Date(\"2014-10-01\"), \n",
    "  as.Date(\"2015-01-01\"), as.Date(\"2015-04-01\"), as.Date(\"2015-07-01\"), as.Date(\"2015-10-01\"), as.Date(\"2016-01-01\"), \n",
    "  as.Date(\"2016-04-01\"), as.Date(\"2016-07-01\"), as.Date(\"2016-10-01\"), as.Date(\"2017-01-01\"), as.Date(\"2017-04-01\"), \n",
    "  as.Date(\"2017-07-01\"), as.Date(\"2017-10-01\"), as.Date(\"2018-01-01\"), as.Date(\"2018-04-01\"), as.Date(\"2018-07-01\"), \n",
    "  as.Date(\"2018-10-01\"), as.Date(\"2019-01-01\"), as.Date(\"2019-04-01\"), as.Date(\"2019-07-01\"), as.Date(\"2019-10-01\"), \n",
    "  as.Date(\"2020-01-01\"), as.Date(\"2020-04-01\"), as.Date(\"2020-07-01\"), as.Date(\"2020-10-01\"), as.Date(\"2021-01-01\"), \n",
    "  as.Date(\"2021-04-01\"), as.Date(\"2021-07-01\"), as.Date(\"2021-10-01\"), as.Date(\"2022-01-01\"), as.Date(\"2022-04-01\"),\n",
    "  as.Date(\"2022-07-01\"), as.Date(\"2022-10-01\"), as.Date(\"2023-01-01\"), as.Date(\"2023-04-01\"), as.Date(\"2023-07-01\"),\n",
    "  as.Date(\"2023-10-01\"), as.Date(\"2024-01-01\"), as.Date(\"2024-04-01\"), as.Date(\"2024-07-01\"), as.Date(\"2024-10-01\"))\n",
    "\n",
    "# Convert the forecast to a data frame\n",
    "forecast_df <- data.frame(\n",
    "  Date = Dates,\n",
    "  Value = c(data$Value, future_forecast$mean),\n",
    "  Type = c(rep(\"Actual\", 59), rep(\"Forecast\", 5))\n",
    ")\n",
    "\n",
    "# add a linear trend line in the plot for the actual values and make it a dotted line\n",
    "ggplot(forecast_df, aes(x = Date, y = Value, color = Type)) +\n",
    "  geom_line(size = 1.5) +\n",
    "  geom_smooth(method = \"lm\", se = FALSE, linetype = \"dotted\") +\n",
    "  labs(title = \"SouthWest Sales Revenue Forecast\",\n",
    "       x = \"Year\",\n",
    "       y = \"Sales ($)\")"
   ]
  },
  {
   "cell_type": "code",
   "execution_count": 4,
   "metadata": {
    "vscode": {
     "languageId": "r"
    }
   },
   "outputs": [
    {
     "data": {
      "text/plain": [
       "\n",
       "Forecast method: HoltWinters\n",
       "\n",
       "Model Information:\n",
       "Holt-Winters exponential smoothing with trend and additive seasonal component.\n",
       "\n",
       "Call:\n",
       "HoltWinters(x = all_data_ts, alpha = best_params$alpha, beta = best_params$beta,     gamma = best_params$gamma)\n",
       "\n",
       "Smoothing parameters:\n",
       " alpha: 0.9\n",
       " beta : 0.5\n",
       " gamma: 0.3\n",
       "\n",
       "Coefficients:\n",
       "         [,1]\n",
       "a  6506.07477\n",
       "b    62.78064\n",
       "s1  -33.50803\n",
       "s2 -302.49834\n",
       "s3  271.48471\n",
       "s4   60.72871\n",
       "\n",
       "Error measures:\n",
       "                    ME    RMSE      MAE       MPE     MAPE      MASE\n",
       "Training set -2.298762 763.216 440.2677 -2.087719 16.56434 0.5190723\n",
       "                    ACF1\n",
       "Training set -0.05627474\n",
       "\n",
       "Forecasts:\n",
       "        Point Forecast    Lo 80     Hi 80     Lo 95     Hi 95\n",
       "2023 Q4       6535.347 5548.236  7522.458 5025.6913  8045.003\n",
       "2024 Q1       6329.138 4670.762  7987.514 3792.8705  8865.405\n",
       "2024 Q2       6965.901 4535.422  9396.381 3248.8043 10682.998\n",
       "2024 Q3       6817.926 3525.500 10110.352 1782.5949 11853.257\n",
       "2024 Q4       6786.470 2531.815 11041.125  279.5369 13293.403"
      ]
     },
     "metadata": {},
     "output_type": "display_data"
    }
   ],
   "source": [
    "summary(future_forecast)"
   ]
  }
 ],
 "metadata": {
  "kernelspec": {
   "display_name": "R",
   "language": "R",
   "name": "ir"
  },
  "language_info": {
   "codemirror_mode": "r",
   "file_extension": ".r",
   "mimetype": "text/x-r-source",
   "name": "R",
   "pygments_lexer": "r",
   "version": "4.1.2"
  }
 },
 "nbformat": 4,
 "nbformat_minor": 2
}
